{
 "cells": [
  {
   "cell_type": "markdown",
   "metadata": {},
   "source": [
    "# **영화 리뷰 긍/부정 학습**"
   ]
  },
  {
   "cell_type": "markdown",
   "metadata": {},
   "source": [
    "👉 데이터 가져오기"
   ]
  },
  {
   "cell_type": "code",
   "execution_count": 1,
   "metadata": {},
   "outputs": [
    {
     "name": "stdout",
     "output_type": "stream",
     "text": [
      "Requirement already satisfied: konlpy in /Users/sunghwanpark/opt/anaconda3/envs/pyshpark/lib/python3.8/site-packages (0.5.2)\n",
      "Requirement already satisfied: beautifulsoup4==4.6.0 in /Users/sunghwanpark/opt/anaconda3/envs/pyshpark/lib/python3.8/site-packages (from konlpy) (4.6.0)\n",
      "Requirement already satisfied: numpy>=1.6 in /Users/sunghwanpark/opt/anaconda3/envs/pyshpark/lib/python3.8/site-packages (from konlpy) (1.19.4)\n",
      "Requirement already satisfied: colorama in /Users/sunghwanpark/opt/anaconda3/envs/pyshpark/lib/python3.8/site-packages (from konlpy) (0.4.4)\n",
      "Requirement already satisfied: tweepy>=3.7.0 in /Users/sunghwanpark/opt/anaconda3/envs/pyshpark/lib/python3.8/site-packages (from konlpy) (3.9.0)\n",
      "Requirement already satisfied: lxml>=4.1.0 in /Users/sunghwanpark/opt/anaconda3/envs/pyshpark/lib/python3.8/site-packages (from konlpy) (4.6.2)\n",
      "Requirement already satisfied: JPype1>=0.7.0 in /Users/sunghwanpark/opt/anaconda3/envs/pyshpark/lib/python3.8/site-packages (from konlpy) (1.2.0)\n",
      "Requirement already satisfied: requests[socks]>=2.11.1 in /Users/sunghwanpark/opt/anaconda3/envs/pyshpark/lib/python3.8/site-packages (from tweepy>=3.7.0->konlpy) (2.25.1)\n",
      "Requirement already satisfied: six>=1.10.0 in /Users/sunghwanpark/opt/anaconda3/envs/pyshpark/lib/python3.8/site-packages (from tweepy>=3.7.0->konlpy) (1.15.0)\n",
      "Requirement already satisfied: requests-oauthlib>=0.7.0 in /Users/sunghwanpark/opt/anaconda3/envs/pyshpark/lib/python3.8/site-packages (from tweepy>=3.7.0->konlpy) (1.3.0)\n",
      "Requirement already satisfied: oauthlib>=3.0.0 in /Users/sunghwanpark/opt/anaconda3/envs/pyshpark/lib/python3.8/site-packages (from requests-oauthlib>=0.7.0->tweepy>=3.7.0->konlpy) (3.1.0)\n",
      "Requirement already satisfied: certifi>=2017.4.17 in /Users/sunghwanpark/opt/anaconda3/envs/pyshpark/lib/python3.8/site-packages (from requests[socks]>=2.11.1->tweepy>=3.7.0->konlpy) (2020.12.5)\n",
      "Requirement already satisfied: chardet<5,>=3.0.2 in /Users/sunghwanpark/opt/anaconda3/envs/pyshpark/lib/python3.8/site-packages (from requests[socks]>=2.11.1->tweepy>=3.7.0->konlpy) (4.0.0)\n",
      "Requirement already satisfied: urllib3<1.27,>=1.21.1 in /Users/sunghwanpark/opt/anaconda3/envs/pyshpark/lib/python3.8/site-packages (from requests[socks]>=2.11.1->tweepy>=3.7.0->konlpy) (1.26.2)\n",
      "Requirement already satisfied: idna<3,>=2.5 in /Users/sunghwanpark/opt/anaconda3/envs/pyshpark/lib/python3.8/site-packages (from requests[socks]>=2.11.1->tweepy>=3.7.0->konlpy) (2.10)\n",
      "Requirement already satisfied: PySocks!=1.5.7,>=1.5.6 in /Users/sunghwanpark/opt/anaconda3/envs/pyshpark/lib/python3.8/site-packages (from requests[socks]>=2.11.1->tweepy>=3.7.0->konlpy) (1.7.1)\n",
      "Requirement already satisfied: tensorflow in /Users/sunghwanpark/opt/anaconda3/envs/pyshpark/lib/python3.8/site-packages (2.4.0)\n",
      "Requirement already satisfied: wrapt~=1.12.1 in /Users/sunghwanpark/opt/anaconda3/envs/pyshpark/lib/python3.8/site-packages (from tensorflow) (1.12.1)\n",
      "Requirement already satisfied: numpy~=1.19.2 in /Users/sunghwanpark/opt/anaconda3/envs/pyshpark/lib/python3.8/site-packages (from tensorflow) (1.19.4)\n",
      "Requirement already satisfied: protobuf>=3.9.2 in /Users/sunghwanpark/opt/anaconda3/envs/pyshpark/lib/python3.8/site-packages (from tensorflow) (3.14.0)\n",
      "Requirement already satisfied: tensorboard~=2.4 in /Users/sunghwanpark/opt/anaconda3/envs/pyshpark/lib/python3.8/site-packages (from tensorflow) (2.4.0)\n",
      "Requirement already satisfied: h5py~=2.10.0 in /Users/sunghwanpark/opt/anaconda3/envs/pyshpark/lib/python3.8/site-packages (from tensorflow) (2.10.0)\n",
      "Requirement already satisfied: typing-extensions~=3.7.4 in /Users/sunghwanpark/opt/anaconda3/envs/pyshpark/lib/python3.8/site-packages (from tensorflow) (3.7.4.3)\n",
      "Requirement already satisfied: tensorflow-estimator<2.5.0,>=2.4.0rc0 in /Users/sunghwanpark/opt/anaconda3/envs/pyshpark/lib/python3.8/site-packages (from tensorflow) (2.4.0)\n",
      "Requirement already satisfied: google-pasta~=0.2 in /Users/sunghwanpark/opt/anaconda3/envs/pyshpark/lib/python3.8/site-packages (from tensorflow) (0.2.0)\n",
      "Requirement already satisfied: absl-py~=0.10 in /Users/sunghwanpark/opt/anaconda3/envs/pyshpark/lib/python3.8/site-packages (from tensorflow) (0.11.0)\n",
      "Requirement already satisfied: astunparse~=1.6.3 in /Users/sunghwanpark/opt/anaconda3/envs/pyshpark/lib/python3.8/site-packages (from tensorflow) (1.6.3)\n",
      "Requirement already satisfied: wheel~=0.35 in /Users/sunghwanpark/opt/anaconda3/envs/pyshpark/lib/python3.8/site-packages (from tensorflow) (0.36.2)\n",
      "Requirement already satisfied: gast==0.3.3 in /Users/sunghwanpark/opt/anaconda3/envs/pyshpark/lib/python3.8/site-packages (from tensorflow) (0.3.3)\n",
      "Requirement already satisfied: opt-einsum~=3.3.0 in /Users/sunghwanpark/opt/anaconda3/envs/pyshpark/lib/python3.8/site-packages (from tensorflow) (3.3.0)\n",
      "Requirement already satisfied: termcolor~=1.1.0 in /Users/sunghwanpark/opt/anaconda3/envs/pyshpark/lib/python3.8/site-packages (from tensorflow) (1.1.0)\n",
      "Requirement already satisfied: six~=1.15.0 in /Users/sunghwanpark/opt/anaconda3/envs/pyshpark/lib/python3.8/site-packages (from tensorflow) (1.15.0)\n",
      "Requirement already satisfied: keras-preprocessing~=1.1.2 in /Users/sunghwanpark/opt/anaconda3/envs/pyshpark/lib/python3.8/site-packages (from tensorflow) (1.1.2)\n",
      "Requirement already satisfied: grpcio~=1.32.0 in /Users/sunghwanpark/opt/anaconda3/envs/pyshpark/lib/python3.8/site-packages (from tensorflow) (1.32.0)\n",
      "Requirement already satisfied: flatbuffers~=1.12.0 in /Users/sunghwanpark/opt/anaconda3/envs/pyshpark/lib/python3.8/site-packages (from tensorflow) (1.12)\n",
      "Requirement already satisfied: google-auth-oauthlib<0.5,>=0.4.1 in /Users/sunghwanpark/opt/anaconda3/envs/pyshpark/lib/python3.8/site-packages (from tensorboard~=2.4->tensorflow) (0.4.2)\n",
      "Requirement already satisfied: werkzeug>=0.11.15 in /Users/sunghwanpark/opt/anaconda3/envs/pyshpark/lib/python3.8/site-packages (from tensorboard~=2.4->tensorflow) (1.0.1)\n",
      "Requirement already satisfied: tensorboard-plugin-wit>=1.6.0 in /Users/sunghwanpark/opt/anaconda3/envs/pyshpark/lib/python3.8/site-packages (from tensorboard~=2.4->tensorflow) (1.7.0)\n",
      "Requirement already satisfied: setuptools>=41.0.0 in /Users/sunghwanpark/opt/anaconda3/envs/pyshpark/lib/python3.8/site-packages (from tensorboard~=2.4->tensorflow) (51.0.0.post20201207)\n",
      "Requirement already satisfied: markdown>=2.6.8 in /Users/sunghwanpark/opt/anaconda3/envs/pyshpark/lib/python3.8/site-packages (from tensorboard~=2.4->tensorflow) (3.3.3)\n",
      "Requirement already satisfied: requests<3,>=2.21.0 in /Users/sunghwanpark/opt/anaconda3/envs/pyshpark/lib/python3.8/site-packages (from tensorboard~=2.4->tensorflow) (2.25.1)\n",
      "Requirement already satisfied: google-auth<2,>=1.6.3 in /Users/sunghwanpark/opt/anaconda3/envs/pyshpark/lib/python3.8/site-packages (from tensorboard~=2.4->tensorflow) (1.24.0)\n",
      "Requirement already satisfied: rsa<5,>=3.1.4 in /Users/sunghwanpark/opt/anaconda3/envs/pyshpark/lib/python3.8/site-packages (from google-auth<2,>=1.6.3->tensorboard~=2.4->tensorflow) (4.6)\n",
      "Requirement already satisfied: pyasn1-modules>=0.2.1 in /Users/sunghwanpark/opt/anaconda3/envs/pyshpark/lib/python3.8/site-packages (from google-auth<2,>=1.6.3->tensorboard~=2.4->tensorflow) (0.2.8)\n",
      "Requirement already satisfied: cachetools<5.0,>=2.0.0 in /Users/sunghwanpark/opt/anaconda3/envs/pyshpark/lib/python3.8/site-packages (from google-auth<2,>=1.6.3->tensorboard~=2.4->tensorflow) (4.2.0)\n",
      "Requirement already satisfied: requests-oauthlib>=0.7.0 in /Users/sunghwanpark/opt/anaconda3/envs/pyshpark/lib/python3.8/site-packages (from google-auth-oauthlib<0.5,>=0.4.1->tensorboard~=2.4->tensorflow) (1.3.0)\n",
      "Requirement already satisfied: pyasn1<0.5.0,>=0.4.6 in /Users/sunghwanpark/opt/anaconda3/envs/pyshpark/lib/python3.8/site-packages (from pyasn1-modules>=0.2.1->google-auth<2,>=1.6.3->tensorboard~=2.4->tensorflow) (0.4.8)\n",
      "Requirement already satisfied: certifi>=2017.4.17 in /Users/sunghwanpark/opt/anaconda3/envs/pyshpark/lib/python3.8/site-packages (from requests<3,>=2.21.0->tensorboard~=2.4->tensorflow) (2020.12.5)\n",
      "Requirement already satisfied: chardet<5,>=3.0.2 in /Users/sunghwanpark/opt/anaconda3/envs/pyshpark/lib/python3.8/site-packages (from requests<3,>=2.21.0->tensorboard~=2.4->tensorflow) (4.0.0)\n",
      "Requirement already satisfied: urllib3<1.27,>=1.21.1 in /Users/sunghwanpark/opt/anaconda3/envs/pyshpark/lib/python3.8/site-packages (from requests<3,>=2.21.0->tensorboard~=2.4->tensorflow) (1.26.2)\n",
      "Requirement already satisfied: idna<3,>=2.5 in /Users/sunghwanpark/opt/anaconda3/envs/pyshpark/lib/python3.8/site-packages (from requests<3,>=2.21.0->tensorboard~=2.4->tensorflow) (2.10)\n",
      "Requirement already satisfied: oauthlib>=3.0.0 in /Users/sunghwanpark/opt/anaconda3/envs/pyshpark/lib/python3.8/site-packages (from requests-oauthlib>=0.7.0->google-auth-oauthlib<0.5,>=0.4.1->tensorboard~=2.4->tensorflow) (3.1.0)\n",
      "Requirement already satisfied: pandas in /Users/sunghwanpark/opt/anaconda3/envs/pyshpark/lib/python3.8/site-packages (1.1.5)\n",
      "Requirement already satisfied: python-dateutil>=2.7.3 in /Users/sunghwanpark/opt/anaconda3/envs/pyshpark/lib/python3.8/site-packages (from pandas) (2.8.1)\n",
      "Requirement already satisfied: numpy>=1.15.4 in /Users/sunghwanpark/opt/anaconda3/envs/pyshpark/lib/python3.8/site-packages (from pandas) (1.19.4)\n",
      "Requirement already satisfied: pytz>=2017.2 in /Users/sunghwanpark/opt/anaconda3/envs/pyshpark/lib/python3.8/site-packages (from pandas) (2020.4)\n",
      "Requirement already satisfied: six>=1.5 in /Users/sunghwanpark/opt/anaconda3/envs/pyshpark/lib/python3.8/site-packages (from python-dateutil>=2.7.3->pandas) (1.15.0)\n",
      "Requirement already satisfied: numpy in /Users/sunghwanpark/opt/anaconda3/envs/pyshpark/lib/python3.8/site-packages (1.19.4)\n",
      "Requirement already satisfied: nltk in /Users/sunghwanpark/opt/anaconda3/envs/pyshpark/lib/python3.8/site-packages (3.5)\n",
      "Requirement already satisfied: joblib in /Users/sunghwanpark/opt/anaconda3/envs/pyshpark/lib/python3.8/site-packages (from nltk) (1.0.0)\n",
      "Requirement already satisfied: tqdm in /Users/sunghwanpark/opt/anaconda3/envs/pyshpark/lib/python3.8/site-packages (from nltk) (4.55.0)\n",
      "Requirement already satisfied: click in /Users/sunghwanpark/opt/anaconda3/envs/pyshpark/lib/python3.8/site-packages (from nltk) (7.1.2)\n",
      "Requirement already satisfied: regex in /Users/sunghwanpark/opt/anaconda3/envs/pyshpark/lib/python3.8/site-packages (from nltk) (2020.11.13)\n",
      "Requirement already satisfied: keras in /Users/sunghwanpark/opt/anaconda3/envs/pyshpark/lib/python3.8/site-packages (2.4.3)\n",
      "Requirement already satisfied: scipy>=0.14 in /Users/sunghwanpark/opt/anaconda3/envs/pyshpark/lib/python3.8/site-packages (from keras) (1.5.4)\n",
      "Requirement already satisfied: numpy>=1.9.1 in /Users/sunghwanpark/opt/anaconda3/envs/pyshpark/lib/python3.8/site-packages (from keras) (1.19.4)\n",
      "Requirement already satisfied: h5py in /Users/sunghwanpark/opt/anaconda3/envs/pyshpark/lib/python3.8/site-packages (from keras) (2.10.0)\n",
      "Requirement already satisfied: pyyaml in /Users/sunghwanpark/opt/anaconda3/envs/pyshpark/lib/python3.8/site-packages (from keras) (5.3.1)\n",
      "Requirement already satisfied: six in /Users/sunghwanpark/opt/anaconda3/envs/pyshpark/lib/python3.8/site-packages (from h5py->keras) (1.15.0)\n",
      "Requirement already satisfied: konlpy in /Users/sunghwanpark/opt/anaconda3/envs/pyshpark/lib/python3.8/site-packages (0.5.2)\n",
      "Requirement already satisfied: tweepy>=3.7.0 in /Users/sunghwanpark/opt/anaconda3/envs/pyshpark/lib/python3.8/site-packages (from konlpy) (3.9.0)\n",
      "Requirement already satisfied: numpy>=1.6 in /Users/sunghwanpark/opt/anaconda3/envs/pyshpark/lib/python3.8/site-packages (from konlpy) (1.19.4)\n",
      "Requirement already satisfied: JPype1>=0.7.0 in /Users/sunghwanpark/opt/anaconda3/envs/pyshpark/lib/python3.8/site-packages (from konlpy) (1.2.0)\n",
      "Requirement already satisfied: beautifulsoup4==4.6.0 in /Users/sunghwanpark/opt/anaconda3/envs/pyshpark/lib/python3.8/site-packages (from konlpy) (4.6.0)\n",
      "Requirement already satisfied: lxml>=4.1.0 in /Users/sunghwanpark/opt/anaconda3/envs/pyshpark/lib/python3.8/site-packages (from konlpy) (4.6.2)\n",
      "Requirement already satisfied: colorama in /Users/sunghwanpark/opt/anaconda3/envs/pyshpark/lib/python3.8/site-packages (from konlpy) (0.4.4)\n",
      "Requirement already satisfied: requests-oauthlib>=0.7.0 in /Users/sunghwanpark/opt/anaconda3/envs/pyshpark/lib/python3.8/site-packages (from tweepy>=3.7.0->konlpy) (1.3.0)\n",
      "Requirement already satisfied: requests[socks]>=2.11.1 in /Users/sunghwanpark/opt/anaconda3/envs/pyshpark/lib/python3.8/site-packages (from tweepy>=3.7.0->konlpy) (2.25.1)\n",
      "Requirement already satisfied: six>=1.10.0 in /Users/sunghwanpark/opt/anaconda3/envs/pyshpark/lib/python3.8/site-packages (from tweepy>=3.7.0->konlpy) (1.15.0)\n",
      "Requirement already satisfied: oauthlib>=3.0.0 in /Users/sunghwanpark/opt/anaconda3/envs/pyshpark/lib/python3.8/site-packages (from requests-oauthlib>=0.7.0->tweepy>=3.7.0->konlpy) (3.1.0)\n",
      "Requirement already satisfied: certifi>=2017.4.17 in /Users/sunghwanpark/opt/anaconda3/envs/pyshpark/lib/python3.8/site-packages (from requests[socks]>=2.11.1->tweepy>=3.7.0->konlpy) (2020.12.5)\n",
      "Requirement already satisfied: chardet<5,>=3.0.2 in /Users/sunghwanpark/opt/anaconda3/envs/pyshpark/lib/python3.8/site-packages (from requests[socks]>=2.11.1->tweepy>=3.7.0->konlpy) (4.0.0)\n",
      "Requirement already satisfied: urllib3<1.27,>=1.21.1 in /Users/sunghwanpark/opt/anaconda3/envs/pyshpark/lib/python3.8/site-packages (from requests[socks]>=2.11.1->tweepy>=3.7.0->konlpy) (1.26.2)\n",
      "Requirement already satisfied: idna<3,>=2.5 in /Users/sunghwanpark/opt/anaconda3/envs/pyshpark/lib/python3.8/site-packages (from requests[socks]>=2.11.1->tweepy>=3.7.0->konlpy) (2.10)\n",
      "Requirement already satisfied: PySocks!=1.5.7,>=1.5.6 in /Users/sunghwanpark/opt/anaconda3/envs/pyshpark/lib/python3.8/site-packages (from requests[socks]>=2.11.1->tweepy>=3.7.0->konlpy) (1.7.1)\n",
      "Requirement already satisfied: sklearn in /Users/sunghwanpark/opt/anaconda3/envs/pyshpark/lib/python3.8/site-packages (0.0)\n",
      "Requirement already satisfied: scikit-learn in /Users/sunghwanpark/opt/anaconda3/envs/pyshpark/lib/python3.8/site-packages (from sklearn) (0.24.0)\n",
      "Requirement already satisfied: threadpoolctl>=2.0.0 in /Users/sunghwanpark/opt/anaconda3/envs/pyshpark/lib/python3.8/site-packages (from scikit-learn->sklearn) (2.1.0)\n",
      "Requirement already satisfied: joblib>=0.11 in /Users/sunghwanpark/opt/anaconda3/envs/pyshpark/lib/python3.8/site-packages (from scikit-learn->sklearn) (1.0.0)\n",
      "Requirement already satisfied: scipy>=0.19.1 in /Users/sunghwanpark/opt/anaconda3/envs/pyshpark/lib/python3.8/site-packages (from scikit-learn->sklearn) (1.5.4)\n",
      "Requirement already satisfied: numpy>=1.13.3 in /Users/sunghwanpark/opt/anaconda3/envs/pyshpark/lib/python3.8/site-packages (from scikit-learn->sklearn) (1.19.4)\n",
      "Requirement already satisfied: matplotlib in /Users/sunghwanpark/opt/anaconda3/envs/pyshpark/lib/python3.8/site-packages (3.3.3)\n",
      "Requirement already satisfied: python-dateutil>=2.1 in /Users/sunghwanpark/opt/anaconda3/envs/pyshpark/lib/python3.8/site-packages (from matplotlib) (2.8.1)\n",
      "Requirement already satisfied: cycler>=0.10 in /Users/sunghwanpark/opt/anaconda3/envs/pyshpark/lib/python3.8/site-packages (from matplotlib) (0.10.0)\n",
      "Requirement already satisfied: pyparsing!=2.0.4,!=2.1.2,!=2.1.6,>=2.0.3 in /Users/sunghwanpark/opt/anaconda3/envs/pyshpark/lib/python3.8/site-packages (from matplotlib) (2.4.7)\n",
      "Requirement already satisfied: pillow>=6.2.0 in /Users/sunghwanpark/opt/anaconda3/envs/pyshpark/lib/python3.8/site-packages (from matplotlib) (8.0.1)\n",
      "Requirement already satisfied: kiwisolver>=1.0.1 in /Users/sunghwanpark/opt/anaconda3/envs/pyshpark/lib/python3.8/site-packages (from matplotlib) (1.3.1)\n",
      "Requirement already satisfied: numpy>=1.15 in /Users/sunghwanpark/opt/anaconda3/envs/pyshpark/lib/python3.8/site-packages (from matplotlib) (1.19.4)\n",
      "Requirement already satisfied: six in /Users/sunghwanpark/opt/anaconda3/envs/pyshpark/lib/python3.8/site-packages (from cycler>=0.10->matplotlib) (1.15.0)\n"
     ]
    }
   ],
   "source": [
    "!pip install konlpy\n",
    "!pip install tensorflow\n",
    "!pip install pandas\n",
    "!pip install numpy\n",
    "!pip install nltk\n",
    "!pip install keras\n",
    "!pip install konlpy\n",
    "!pip install sklearn\n",
    "!pip install matplotlib"
   ]
  },
  {
   "cell_type": "code",
   "execution_count": 2,
   "metadata": {},
   "outputs": [],
   "source": [
    "import pandas as pd\n",
    "import numpy as np\n",
    "import urllib.request"
   ]
  },
  {
   "cell_type": "code",
   "execution_count": 3,
   "metadata": {},
   "outputs": [],
   "source": [
    "# git에서 txt파일 가져오기\n",
    "urllib.request.urlretrieve(\"https://raw.githubusercontent.com/e9t/nsmc/master/ratings_train.txt\", filename=\"ratings_train.txt\")\n",
    "urllib.request.urlretrieve(\"https://raw.githubusercontent.com/e9t/nsmc/master/ratings_test.txt\", filename=\"ratings_test.txt\")\n",
    "\n",
    "\n",
    "# 파일을 읽어와 Corpus를 만드는 함수\n",
    "def read_data(filename, encoding):\n",
    "    data = []\n",
    "    with open(filename, encoding=encoding) as f:\n",
    "        data = [line.split('\\t') for line in f.read().splitlines()]\n",
    "        data = data[1:]\n",
    "    return data\n",
    "\n",
    "train_data = read_data(\"ratings_train.txt\", 'utf-8')\n",
    "test_data = read_data(\"ratings_test.txt\", 'utf-8')    "
   ]
  },
  {
   "cell_type": "code",
   "execution_count": 4,
   "metadata": {},
   "outputs": [
    {
     "data": {
      "text/plain": [
       "[['9976970', '아 더빙.. 진짜 짜증나네요 목소리', '0'],\n",
       " ['3819312', '흠...포스터보고 초딩영화줄....오버연기조차 가볍지 않구나', '1'],\n",
       " ['10265843', '너무재밓었다그래서보는것을추천한다', '0'],\n",
       " ['9045019', '교도소 이야기구먼 ..솔직히 재미는 없다..평점 조정', '0'],\n",
       " ['6483659',\n",
       "  '사이몬페그의 익살스런 연기가 돋보였던 영화!스파이더맨에서 늙어보이기만 했던 커스틴 던스트가 너무나도 이뻐보였다',\n",
       "  '1']]"
      ]
     },
     "execution_count": 4,
     "metadata": {},
     "output_type": "execute_result"
    }
   ],
   "source": [
    "train_data[:5]\n",
    "#test_data[:5]"
   ]
  },
  {
   "cell_type": "code",
   "execution_count": 5,
   "metadata": {},
   "outputs": [
    {
     "name": "stdout",
     "output_type": "stream",
     "text": [
      "훈련용 리뷰 개수 : 150000\n",
      "테스트 리뷰 개수 : 50000\n"
     ]
    }
   ],
   "source": [
    "print('훈련용 리뷰 개수 :',len(train_data)) # 훈련용 리뷰 개수 출력\n",
    "print('테스트 리뷰 개수 :',len(test_data)) # 테스트 리뷰 개수 출력\n",
    "\n",
    "# 학습용 데이터 150,000건, 테스트용 데이터 50,000건"
   ]
  },
  {
   "cell_type": "markdown",
   "metadata": {},
   "source": [
    "👉🏻 토큰화"
   ]
  },
  {
   "cell_type": "code",
   "execution_count": 6,
   "metadata": {},
   "outputs": [],
   "source": [
    "import konlpy\n",
    "from konlpy.tag import Okt\n",
    "okt=Okt()\n",
    "\n",
    "import json\n",
    "import os\n",
    "from pprint import pprint"
   ]
  },
  {
   "cell_type": "code",
   "execution_count": 7,
   "metadata": {},
   "outputs": [],
   "source": [
    "# 토큰화 : 문자열에서 단어로 분리(하나의 문장을 토큰화 한 후 텍스트와 품사태깅을 '/'구분자로 묶어준다.)\n",
    "def tokenize(doc):\n",
    "    # norm은 문장을 정규화, stem은 각 단어에서 어간을 추출(기본 값은 둘다 False)\n",
    "    return ['/'.join(t) for t in okt.pos(doc, norm=True, stem=True)]\n",
    "\n",
    "train_docs=[] # 훈련 데이터\n",
    "test_docs=[] # 테스트 데이터\n",
    "train_docs0=[]\n",
    "test_docs0=[]\n",
    "\n",
    "for row in train_data:\n",
    "    train_docs0 = [tokenize(row[1]),row[2]] \n",
    "    #리스트 안에 한문장에 대해서 위에서 만든 tokenizing함수를 통해서 [[토큰화텍스트],긍/부정 여부]를 리스트의 각 문장 별로 요소로 넣는다.\n",
    "    train_docs.append(train_docs0)\n",
    "    \n",
    "for row in test_data:\n",
    "    test_docs0 = [tokenize(row[1]),row[2]] \n",
    "    test_docs.append(test_docs0)"
   ]
  },
  {
   "cell_type": "code",
   "execution_count": 8,
   "metadata": {},
   "outputs": [
    {
     "name": "stdout",
     "output_type": "stream",
     "text": [
      "2159921\n"
     ]
    },
    {
     "data": {
      "text/plain": [
       "'아/Exclamation'"
      ]
     },
     "execution_count": 8,
     "metadata": {},
     "output_type": "execute_result"
    }
   ],
   "source": [
    "train_docs[:1]\n",
    "\n",
    "tokens = [t for d in train_docs for t in d[0]]\n",
    "print(len(tokens))\n",
    "tokens[0]"
   ]
  },
  {
   "cell_type": "markdown",
   "metadata": {},
   "source": [
    "👉🏻 nltk(자연어 처리)"
   ]
  },
  {
   "cell_type": "code",
   "execution_count": 9,
   "metadata": {},
   "outputs": [],
   "source": [
    "import nltk"
   ]
  },
  {
   "cell_type": "code",
   "execution_count": 10,
   "metadata": {},
   "outputs": [
    {
     "name": "stdout",
     "output_type": "stream",
     "text": [
      "2159921\n",
      "49895\n",
      "[('./Punctuation', 67778),\n",
      " ('영화/Noun', 50818),\n",
      " ('하다/Verb', 41209),\n",
      " ('이/Josa', 38540),\n",
      " ('보다/Verb', 38538),\n",
      " ('의/Josa', 30188),\n",
      " ('../Punctuation', 29055),\n",
      " ('가/Josa', 26627),\n",
      " ('에/Josa', 26468),\n",
      " ('을/Josa', 23118)]\n"
     ]
    }
   ],
   "source": [
    "# nltk 전처리\n",
    "text = nltk.Text(tokens, name='NMSC')\n",
    "# 전체 토큰 수\n",
    "print(len(text.tokens))\n",
    "\n",
    "# 중복을 제외한 토큰의 개수\n",
    "print(len(set(text.tokens)))            \n",
    "\n",
    "# 출현 빈도가 높은 상위 토큰 10개\n",
    "pprint(text.vocab().most_common(10))"
   ]
  },
  {
   "cell_type": "markdown",
   "metadata": {},
   "source": [
    "👉🏻 CountVectorization(데이터 벡터화)"
   ]
  },
  {
   "cell_type": "code",
   "execution_count": 11,
   "metadata": {},
   "outputs": [
    {
     "name": "stdout",
     "output_type": "stream",
     "text": [
      "[[['아/Exclamation', '더빙/Noun', '../Punctuation', '진짜/Noun', '짜증나다/Adjective', '목소리/Noun'], '0'], [['흠/Noun', '.../Punctuation', '포스터/Noun', '보고/Noun', '초딩/Noun', '영화/Noun', '줄/Noun', '..../Punctuation', '오버/Noun', '연기/Noun', '조차/Josa', '가볍다/Adjective', '않다/Verb'], '1'], [['너/Modifier', '무재/Noun', '밓었/Noun', '다그/Noun', '래서/Noun', '보다/Verb', '추천/Noun', '한/Josa', '다/Adverb'], '0'], [['교도소/Noun', '이야기/Noun', '구먼/Noun', '../Punctuation', '솔직하다/Adjective', '재미/Noun', '는/Josa', '없다/Adjective', '../Punctuation', '평점/Noun', '조정/Noun'], '0'], [['사이/Modifier', '몬페/Noun', '그/Determiner', '의/Noun', '익살스럽다/Adjective', '연기/Noun', '가/Josa', '돋보이다/Verb', '영화/Noun', '!/Punctuation', '스파이더맨/Noun', '에서/Josa', '늙다/Verb', '보이다/Verb', '하다/Verb', '커스틴/Noun', '던스트/Noun', '가/Josa', '너무나도/Adverb', '이쁘다/Adjective', '보이다/Verb'], '1']]\n"
     ]
    }
   ],
   "source": [
    "# 자주 사용되는 토큰을 데이터 벡터화하는데 처리 시간이 오래 걸리므로 most_common의 매개변수를 1000건 정도로 적게 설정하였다.\n",
    "selected_words = [f[0] for f in text.vocab().most_common(1000)]\n",
    "\n",
    "def term_frequency(doc):\n",
    "    return [doc.count(word) for word in selected_words]\n",
    "\n",
    "\n",
    "print(train_docs[:5])\n",
    "train_x = [term_frequency(d) for d, _ in train_docs]\n",
    "test_x = [term_frequency(d) for d, _ in test_docs]\n",
    "train_y = [c for _, c in train_docs]\n",
    "test_y = [c for _, c in test_docs]"
   ]
  },
  {
   "cell_type": "code",
   "execution_count": 12,
   "metadata": {},
   "outputs": [],
   "source": [
    "# float로 형 변환\n",
    "x_train = np.asarray(train_x).astype('float32')\n",
    "y_train = np.asarray(train_y).astype('float32')\n",
    "\n",
    "x_test = np.asarray(test_x).astype('float32')\n",
    "y_test = np.asarray(test_y).astype('float32')"
   ]
  },
  {
   "cell_type": "markdown",
   "metadata": {},
   "source": [
    "👉🏻 모델 정의"
   ]
  },
  {
   "cell_type": "code",
   "execution_count": 13,
   "metadata": {},
   "outputs": [],
   "source": [
    "import tensorflow as tf\n",
    "\n",
    "from tensorflow.keras import models, layers, optimizers, losses, metrics"
   ]
  },
  {
   "cell_type": "code",
   "execution_count": 14,
   "metadata": {},
   "outputs": [
    {
     "name": "stdout",
     "output_type": "stream",
     "text": [
      "Epoch 1/10\n",
      "300/300 [==============================] - 6s 13ms/step - loss: 0.4856 - binary_accuracy: 0.7723\n",
      "Epoch 2/10\n",
      "300/300 [==============================] - 2s 8ms/step - loss: 0.3797 - binary_accuracy: 0.8255\n",
      "Epoch 3/10\n",
      "300/300 [==============================] - 1s 3ms/step - loss: 0.3664 - binary_accuracy: 0.8321\n",
      "Epoch 4/10\n",
      "300/300 [==============================] - 1s 3ms/step - loss: 0.3508 - binary_accuracy: 0.8412\n",
      "Epoch 5/10\n",
      "300/300 [==============================] - 1s 3ms/step - loss: 0.3388 - binary_accuracy: 0.8480\n",
      "Epoch 6/10\n",
      "300/300 [==============================] - 1s 3ms/step - loss: 0.3255 - binary_accuracy: 0.8561\n",
      "Epoch 7/10\n",
      "300/300 [==============================] - 1s 3ms/step - loss: 0.3158 - binary_accuracy: 0.8622\n",
      "Epoch 8/10\n",
      "300/300 [==============================] - 1s 3ms/step - loss: 0.3049 - binary_accuracy: 0.8677\n",
      "Epoch 9/10\n",
      "300/300 [==============================] - 1s 3ms/step - loss: 0.2942 - binary_accuracy: 0.8734\n",
      "Epoch 10/10\n",
      "300/300 [==============================] - 1s 3ms/step - loss: 0.2824 - binary_accuracy: 0.8794\n",
      "1563/1563 [==============================] - 1s 703us/step - loss: 0.3948 - binary_accuracy: 0.8302\n"
     ]
    },
    {
     "data": {
      "text/plain": [
       "[0.3948001563549042, 0.8302199840545654]"
      ]
     },
     "execution_count": 14,
     "metadata": {},
     "output_type": "execute_result"
    }
   ],
   "source": [
    "model = models.Sequential()\n",
    "model.add(layers.Dense(64, 'relu', 10000))\n",
    "model.add(layers.Dense(64, activation='relu'))\n",
    "model.add(layers.Dense(1, activation='sigmoid'))\n",
    "\n",
    "# RMSProp optimizer를 통해서 경사하강법을 진행\n",
    "# binary_crossentropy 손실 함수\n",
    "# 모델 생성\n",
    "model.compile(optimizer=optimizers.RMSprop(lr=0.001),\n",
    "             loss=losses.binary_crossentropy,\n",
    "             metrics=[metrics.binary_accuracy])\n",
    "\n",
    "# 배치 사이즈(batch_size)를 500으로 학습 횟수(epochs)를 10번으로 진행.\n",
    "model.fit(x_train, y_train, epochs=10, batch_size=500)\n",
    "results = model.evaluate(x_test, y_test)\n",
    "\n",
    "#예측 결과\n",
    "results #82%의 정확도를 가진다."
   ]
  },
  {
   "cell_type": "code",
   "execution_count": 15,
   "metadata": {},
   "outputs": [],
   "source": [
    "def predict_pos_text(text):\n",
    "    token=tokenize(text) #okt.pos로 토큰화한 단어를 정리\n",
    "    tf=term_frequency(token)#토큰화된 단어를 이용해서 가장 많이 등장하는 단어와의 빈도수 체크\n",
    "\n",
    "    data=np.expand_dims(np.asarray(tf).astype('float32'), axis=0)\n",
    "    #data는 그럼 입력받는 text가 한 문장만 받기 때문에 가장 바깥 리스트의 요소 갯수는 1이 될 것이고\n",
    "    #마찬가지로 리스트 안 리스트 요소내의 갯수는 10000개가 될 것이다.\n",
    "    score=float(model.predict(data)) #새로운 데이터를 받으면 결과 예측\n",
    "    if(score > 0.5):\n",
    "        print(\"'{}'는 {:.2f}% 확률로 긍정 리뷰입니다.\\n\".format(text, score * 100))\n",
    "    else:\n",
    "        print(\"'{}']는 {:.2f}% 확률로 부정 리뷰입니다.\\n\".format(text, (1 - score) * 100))"
   ]
  },
  {
   "cell_type": "code",
   "execution_count": 16,
   "metadata": {},
   "outputs": [
    {
     "name": "stdout",
     "output_type": "stream",
     "text": [
      "'아 더빙.. 진짜 짜증나네요 목소리']는 98.56% 확률로 부정 리뷰입니다.\n",
      "\n",
      "'흠...포스터보고 초딩영화줄....오버연기조차 가볍지 않구나'는 68.47% 확률로 긍정 리뷰입니다.\n",
      "\n",
      "'너무재밓었다그래서보는것을추천한다'는 70.30% 확률로 긍정 리뷰입니다.\n",
      "\n",
      "'교도소 이야기구먼 ..솔직히 재미는 없다..평점 조정']는 91.04% 확률로 부정 리뷰입니다.\n",
      "\n",
      "'사이몬페그의 익살스런 연기가 돋보였던 영화!스파이더맨에서 늙어보이기만 했던 커스틴 던스트가 너무나도 이뻐보였다'는 87.77% 확률로 긍정 리뷰입니다.\n",
      "\n",
      "'그냥 그렇다']는 90.25% 확률로 부정 리뷰입니다.\n",
      "\n"
     ]
    }
   ],
   "source": [
    "predict_pos_text('아 더빙.. 진짜 짜증나네요 목소리')\n",
    "predict_pos_text('흠...포스터보고 초딩영화줄....오버연기조차 가볍지 않구나')\n",
    "predict_pos_text('너무재밓었다그래서보는것을추천한다')\n",
    "predict_pos_text('교도소 이야기구먼 ..솔직히 재미는 없다..평점 조정')\n",
    "predict_pos_text('사이몬페그의 익살스런 연기가 돋보였던 영화!스파이더맨에서 늙어보이기만 했던 커스틴 던스트가 너무나도 이뻐보였다')\n",
    "predict_pos_text('그냥 그렇다')"
   ]
  },
  {
   "cell_type": "markdown",
   "metadata": {},
   "source": [
    " "
   ]
  },
  {
   "cell_type": "markdown",
   "metadata": {},
   "source": [
    "# **AUC-ROC Curve**"
   ]
  },
  {
   "cell_type": "code",
   "execution_count": 17,
   "metadata": {},
   "outputs": [],
   "source": [
    "from sklearn.linear_model import LogisticRegression\n",
    "from sklearn.metrics import roc_curve, confusion_matrix, roc_auc_score\n",
    "\n",
    "import matplotlib.pyplot as plt"
   ]
  },
  {
   "cell_type": "markdown",
   "metadata": {},
   "source": [
    "**ROC-Curve : 머신러닝의 이진 분류 모델의 예측 성능을 판단하는 중요한 평가 지표**\n",
    "\n",
    "**FPR(허위 양성 비율)이 변할 때 TPR(재현율, 민감도)이 어떻게 변하는지를 나타내는 곡선**\n",
    "\n",
    "**👉 FPR(False Positive Rate) = FP / (FP + TN) = 1 - TNR(특이성)**\n",
    "\n",
    "**👉🏻 TPR(True Positive Rate) = TP / (FN + TP)**"
   ]
  },
  {
   "cell_type": "code",
   "execution_count": 18,
   "metadata": {},
   "outputs": [
    {
     "name": "stderr",
     "output_type": "stream",
     "text": [
      "/Users/sunghwanpark/opt/anaconda3/envs/pyshpark/lib/python3.8/site-packages/sklearn/linear_model/_logistic.py:763: ConvergenceWarning: lbfgs failed to converge (status=1):\n",
      "STOP: TOTAL NO. of ITERATIONS REACHED LIMIT.\n",
      "\n",
      "Increase the number of iterations (max_iter) or scale the data as shown in:\n",
      "    https://scikit-learn.org/stable/modules/preprocessing.html\n",
      "Please also refer to the documentation for alternative solver options:\n",
      "    https://scikit-learn.org/stable/modules/linear_model.html#logistic-regression\n",
      "  n_iter_i = _check_optimize_result(\n"
     ]
    },
    {
     "name": "stdout",
     "output_type": "stream",
     "text": [
      "샘플 추출을 위한 임곗값 배열의 index :  [    1     6    11 ... 12991 12996 13001]\n",
      "샘플용 임곗값 :  [1. 1. 1. ... 0. 0. 0.]\n",
      "샘플 임곗값별 FPR :  [0.    0.    0.    ... 0.98  0.988 1.   ]\n",
      "샘플 임곗값별 TPR :  [0.    0.008 0.011 ... 1.    1.    1.   ]\n"
     ]
    }
   ],
   "source": [
    "lr_clf=LogisticRegression()\n",
    "lr_clf.fit(x_train, y_train)\n",
    "\n",
    "# 레이블 값이 1일 때의 예측 확률을 추출\n",
    "pred_proba_class = lr_clf.predict_proba(x_test)[:, 1]\n",
    "\n",
    "fprs, tprs, thresholds=roc_curve(y_test, pred_proba_class)\n",
    "# 반환된 임곗값을 5step으로 추출.\n",
    "# thresholds[0]은 max(예측확률)+1로 임의 설정됨. 이를 제외하기 위해 np.arange는 1부터 시작\n",
    "thr_index=np.arange(1, thresholds.shape[0], 5)\n",
    "\n",
    "print('샘플 추출을 위한 임곗값 배열의 index : ', thr_index)\n",
    "print('샘플용 임곗값 : ', np.round(thresholds[thr_index],2))\n",
    "\n",
    "# 5 step 단위로 추출된 임곗값에 따른 FPR, TPR 값\n",
    "print('샘플 임곗값별 FPR : ', np.round(fprs[thr_index],3))\n",
    "print('샘플 임곗값별 TPR : ', np.round(tprs[thr_index],3))"
   ]
  },
  {
   "cell_type": "code",
   "execution_count": 19,
   "metadata": {},
   "outputs": [
    {
     "data": {
      "image/png": "[encoded data removed]",
      "text/plain": [
       "<Figure size 432x288 with 1 Axes>"
      ]
     },
     "metadata": {
      "needs_background": "light"
     },
     "output_type": "display_data"
    }
   ],
   "source": [
    "def roc_curve_plot(y_test, pred_proba_c1):\n",
    "    # 임곗값에 따른 FPR, TPR 값을 반환받음.\n",
    "    fprs, tprs, thresholds=roc_curve(y_test, pred_proba_c1)\n",
    "    \n",
    "    # ROC 곡선을 그래프 곡선으로 그림\n",
    "    plt.plot(fprs, tprs, label='ROC')\n",
    "    \n",
    "    # 가운데 대각선 직선\n",
    "    plt.plot([0,1], [0,1], 'k--', label='Random')\n",
    "    \n",
    "    \n",
    "    # FPR X 축의 Scale을 0.1단위로 변경,  X, Y축 명 설정\n",
    "    start, end = plt.xlim()\n",
    "    plt.xticks(np.round(np.arange(start, end, 0.1), 2))\n",
    "    plt.xlim(0, 1); plt.ylim(0, 1)\n",
    "    plt.xlabel('FPR( 1 - Sennsitivity )'); plt.ylabel('TPR( Recall )')\n",
    "    plt.legend()\n",
    "    \n",
    "roc_curve_plot(y_test, pred_proba_class)"
   ]
  },
  {
   "cell_type": "markdown",
   "metadata": {},
   "source": [
    "👉🏻 AUC(Area Under Curve)"
   ]
  },
  {
   "cell_type": "markdown",
   "metadata": {},
   "source": [
    "**AUC : ROC 곡선 밑 면적으로 분류의 성능 지표로 1에 가까울수록 좋은 수치**\n",
    "\n",
    "**FPR이 작은 상태에서 얼마나 큰 TPR을 얻을 수 있는지가 좋은 AUC 수치**"
   ]
  },
  {
   "cell_type": "code",
   "execution_count": 20,
   "metadata": {},
   "outputs": [
    {
     "name": "stdout",
     "output_type": "stream",
     "text": [
      "AUC : 0.8967\n"
     ]
    }
   ],
   "source": [
    "roc_auc=roc_auc_score(y_test, pred_proba_class)\n",
    "\n",
    "print('AUC : {0:.4f}'.format(roc_auc))"
   ]
  },
  {
   "cell_type": "code",
   "execution_count": 21,
   "metadata": {},
   "outputs": [
    {
     "name": "stdout",
     "output_type": "stream",
     "text": [
      "오차 행렬\n",
      "[[20736  4091]\n",
      " [ 5083 20090]]\n",
      "AUC : 0.8967\n"
     ]
    }
   ],
   "source": [
    "def get_clf_eval(y_test, pred1=None, pred_proba1=None):\n",
    "    confusion=confusion_matrix(y_test, pred1)\n",
    "    \n",
    "    # ROC-AUC 추가\n",
    "    roc_auc=roc_auc_score(y_test, pred_proba1)\n",
    "    print('오차 행렬')\n",
    "    print(confusion)\n",
    "    \n",
    "    # ROC-AUC print 추가\n",
    "    print('AUC : {0:.4f}'.format(roc_auc))\n",
    "    \n",
    "pred = lr_clf.predict(x_test)\n",
    "get_clf_eval(y_test, pred, pred_proba_class)"
   ]
  }
 ],
 "metadata": {
  "kernelspec": {
   "display_name": "tensorflow",
   "language": "python",
   "name": "tensorflow"
  },
  "language_info": {
   "codemirror_mode": {
    "name": "ipython",
    "version": 3
   },
   "file_extension": ".py",
   "mimetype": "text/x-python",
   "name": "python",
   "nbconvert_exporter": "python",
   "pygments_lexer": "ipython3",
   "version": "3.8.5"
  }
 },
 "nbformat": 4,
 "nbformat_minor": 4
}
