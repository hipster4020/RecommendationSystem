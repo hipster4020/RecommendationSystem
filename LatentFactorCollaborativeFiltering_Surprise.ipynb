{
  "nbformat": 4,
  "nbformat_minor": 0,
  "metadata": {
    "colab": {
      "name": "LatentFactorCollaborativeFiltering_Surprise.ipynb",
      "provenance": [],
      "collapsed_sections": [],
      "toc_visible": true,
      "authorship_tag": "ABX9TyPesIh55QEL6oEUCM1xXYov",
      "include_colab_link": true
    },
    "kernelspec": {
      "name": "python3",
      "display_name": "Python 3"
    }
  },
  "cells": [
    {
      "cell_type": "markdown",
      "metadata": {
        "id": "view-in-github",
        "colab_type": "text"
      },
      "source": [
        "<a href=\"https://colab.research.google.com/github/hipster4020/RecommendationSystem/blob/master/LatentFactorCollaborativeFiltering_Surprise.ipynb\" target=\"_parent\"><img src=\"https://colab.research.google.com/assets/colab-badge.svg\" alt=\"Open In Colab\"/></a>"
      ]
    },
    {
      "cell_type": "code",
      "metadata": {
        "id": "DlET3LPUL34h",
        "outputId": "00680ee1-e1bf-47d3-d7ee-d7d8ca274874",
        "colab": {
          "base_uri": "https://localhost:8080/",
          "height": 102
        }
      },
      "source": [
        "# Surprise 설치\n",
        "!pip install scikit-surprise"
      ],
      "execution_count": 130,
      "outputs": [
        {
          "output_type": "stream",
          "text": [
            "Requirement already satisfied: scikit-surprise in /usr/local/lib/python3.6/dist-packages (1.1.1)\n",
            "Requirement already satisfied: six>=1.10.0 in /usr/local/lib/python3.6/dist-packages (from scikit-surprise) (1.15.0)\n",
            "Requirement already satisfied: numpy>=1.11.2 in /usr/local/lib/python3.6/dist-packages (from scikit-surprise) (1.18.5)\n",
            "Requirement already satisfied: joblib>=0.11 in /usr/local/lib/python3.6/dist-packages (from scikit-surprise) (0.16.0)\n",
            "Requirement already satisfied: scipy>=1.0.0 in /usr/local/lib/python3.6/dist-packages (from scikit-surprise) (1.4.1)\n"
          ],
          "name": "stdout"
        }
      ]
    },
    {
      "cell_type": "code",
      "metadata": {
        "id": "jM3QUUK0V4Yn"
      },
      "source": [
        "# Library import\n",
        "from surprise import SVD\n",
        "from surprise import Dataset\n",
        "from surprise import accuracy\n",
        "from surprise.model_selection import train_test_split\n",
        "from surprise.dataset import DatasetAutoFolds\n",
        "\n",
        "import os\n",
        "\n",
        "# 맥os의 경우 라이브러리를 중복 사용해 오류가 발생할 수 있으므로 환경변수를 아래와 같이 설정한다.\n",
        "os.environ['KMP_DUPLICATE_LIB_OK']='True'\n",
        "\n",
        "\n",
        "import pandas as pd\n",
        "from surprise import Reader, Dataset"
      ],
      "execution_count": 131,
      "outputs": []
    },
    {
      "cell_type": "markdown",
      "metadata": {
        "id": "8bDx6Xw3L8RE"
      },
      "source": [
        "# **데이터 가공 및 변환**"
      ]
    },
    {
      "cell_type": "code",
      "metadata": {
        "id": "zSH_DjwvX_zu",
        "outputId": "3d6f1473-97e2-4246-af79-18897a244337",
        "colab": {
          "base_uri": "https://localhost:8080/",
          "height": 71
        }
      },
      "source": [
        "ratings = pd.read_csv('/content/sample_data/Book-Ratings.csv')\n",
        "books = pd.read_csv('/content/sample_data/BX-Books.csv')\n",
        "bookratings = pd.merge(ratings, books, on='ISBN')\n",
        "bookratings.rename(columns={\"ISBN\":\"item\"}, inplace=True)\n",
        "books.rename(columns={\"Book-Title\":\"title\", \"ISBN\":\"item\"}, inplace=True)"
      ],
      "execution_count": 132,
      "outputs": [
        {
          "output_type": "stream",
          "text": [
            "/usr/local/lib/python3.6/dist-packages/IPython/core/interactiveshell.py:2718: DtypeWarning: Columns (3,8,9,10) have mixed types.Specify dtype option on import or set low_memory=False.\n",
            "  interactivity=interactivity, compiler=compiler, result=result)\n"
          ],
          "name": "stderr"
        }
      ]
    },
    {
      "cell_type": "code",
      "metadata": {
        "id": "zZlIWXvWaIH5"
      },
      "source": [
        "# ratings_noh.csv 파일로 언로드 시 인덱스와 헤더를 모두 제거한 새로운 파일 생성.\n",
        "bookratings.to_csv('/content/sample_data/Book-Ratings_noh.csv', index=False, header=False)"
      ],
      "execution_count": 133,
      "outputs": []
    },
    {
      "cell_type": "markdown",
      "metadata": {
        "id": "379lNrZQgg8F"
      },
      "source": [
        "# **OS 파일 데이터로 Surprise 데이터 세트로 로딩**"
      ]
    },
    {
      "cell_type": "code",
      "metadata": {
        "id": "K6lFrmGiMDNg"
      },
      "source": [
        "col = 'user item rating'\n",
        "reader = Reader(line_format=col, sep=',', rating_scale=(1, 10))\n",
        "data=Dataset.load_from_file('/content/sample_data/Book-Ratings_noh.csv', reader=reader)"
      ],
      "execution_count": 134,
      "outputs": []
    },
    {
      "cell_type": "code",
      "metadata": {
        "id": "xWeLE8ZZTKK3",
        "outputId": "01fbb3f7-c1c7-4274-fdcb-6710a88abd74",
        "colab": {
          "base_uri": "https://localhost:8080/",
          "height": 51
        }
      },
      "source": [
        "trainset, testset = train_test_split(data, test_size=.25, random_state=0)\n",
        "\n",
        "# 수행 시마다 동일한 결과를 도출하기 위해 random_state 설정\n",
        "algo = SVD(n_factors=50, random_state=0)\n",
        "\n",
        "# 학습 데이터 세트로 학습하고 나서 테스트 데이터 세트로 평점 예측 후 RMSE 평가\n",
        "algo.fit(trainset)\n",
        "predictions = algo.test(testset)\n",
        "accuracy.rmse(predictions)"
      ],
      "execution_count": 135,
      "outputs": [
        {
          "output_type": "stream",
          "text": [
            "RMSE: 3.5305\n"
          ],
          "name": "stdout"
        },
        {
          "output_type": "execute_result",
          "data": {
            "text/plain": [
              "3.530515750032821"
            ]
          },
          "metadata": {
            "tags": []
          },
          "execution_count": 135
        }
      ]
    },
    {
      "cell_type": "markdown",
      "metadata": {
        "id": "hhNmuul6gpGG"
      },
      "source": [
        "# **Surprise를 이용한 개인화 도서 추천 시스템 구축**\n",
        "\n"
      ]
    },
    {
      "cell_type": "code",
      "metadata": {
        "id": "wuSk8naFgoMh",
        "outputId": "975f4b0b-d5cc-4d03-fb90-9081a6d5203e",
        "colab": {
          "base_uri": "https://localhost:8080/",
          "height": 273
        }
      },
      "source": [
        "# 다음 코드는 train_test_split()으로 분리되지 않은 데이터 세트에 fit()을 호출해 오류가 발생한다.\n",
        "data = Dataset.load_from_df(bookratings[['user','item','rating']], reader)\n",
        "algo = SVD(n_factors=50, random_state=0)\n",
        "algo.fit(data)"
      ],
      "execution_count": 136,
      "outputs": [
        {
          "output_type": "error",
          "ename": "AttributeError",
          "evalue": "ignored",
          "traceback": [
            "\u001b[0;31m---------------------------------------------------------------------------\u001b[0m",
            "\u001b[0;31mAttributeError\u001b[0m                            Traceback (most recent call last)",
            "\u001b[0;32m<ipython-input-136-2ab2c7b8f9d8>\u001b[0m in \u001b[0;36m<module>\u001b[0;34m()\u001b[0m\n\u001b[1;32m      2\u001b[0m \u001b[0mdata\u001b[0m \u001b[0;34m=\u001b[0m \u001b[0mDataset\u001b[0m\u001b[0;34m.\u001b[0m\u001b[0mload_from_df\u001b[0m\u001b[0;34m(\u001b[0m\u001b[0mbookratings\u001b[0m\u001b[0;34m[\u001b[0m\u001b[0;34m[\u001b[0m\u001b[0;34m'user'\u001b[0m\u001b[0;34m,\u001b[0m\u001b[0;34m'item'\u001b[0m\u001b[0;34m,\u001b[0m\u001b[0;34m'rating'\u001b[0m\u001b[0;34m]\u001b[0m\u001b[0;34m]\u001b[0m\u001b[0;34m,\u001b[0m \u001b[0mreader\u001b[0m\u001b[0;34m)\u001b[0m\u001b[0;34m\u001b[0m\u001b[0;34m\u001b[0m\u001b[0m\n\u001b[1;32m      3\u001b[0m \u001b[0malgo\u001b[0m \u001b[0;34m=\u001b[0m \u001b[0mSVD\u001b[0m\u001b[0;34m(\u001b[0m\u001b[0mn_factors\u001b[0m\u001b[0;34m=\u001b[0m\u001b[0;36m50\u001b[0m\u001b[0;34m,\u001b[0m \u001b[0mrandom_state\u001b[0m\u001b[0;34m=\u001b[0m\u001b[0;36m0\u001b[0m\u001b[0;34m)\u001b[0m\u001b[0;34m\u001b[0m\u001b[0;34m\u001b[0m\u001b[0m\n\u001b[0;32m----> 4\u001b[0;31m \u001b[0malgo\u001b[0m\u001b[0;34m.\u001b[0m\u001b[0mfit\u001b[0m\u001b[0;34m(\u001b[0m\u001b[0mdata\u001b[0m\u001b[0;34m)\u001b[0m\u001b[0;34m\u001b[0m\u001b[0;34m\u001b[0m\u001b[0m\n\u001b[0m",
            "\u001b[0;32m/usr/local/lib/python3.6/dist-packages/surprise/prediction_algorithms/matrix_factorization.pyx\u001b[0m in \u001b[0;36msurprise.prediction_algorithms.matrix_factorization.SVD.fit\u001b[0;34m()\u001b[0m\n",
            "\u001b[0;32m/usr/local/lib/python3.6/dist-packages/surprise/prediction_algorithms/matrix_factorization.pyx\u001b[0m in \u001b[0;36msurprise.prediction_algorithms.matrix_factorization.SVD.sgd\u001b[0;34m()\u001b[0m\n",
            "\u001b[0;31mAttributeError\u001b[0m: 'DatasetAutoFolds' object has no attribute 'global_mean'"
          ]
        }
      ]
    },
    {
      "cell_type": "code",
      "metadata": {
        "id": "2b7LVholh34V"
      },
      "source": [
        "col = 'user item rating'\n",
        "reader = Reader(line_format=col, sep=',', rating_scale=(1, 10))\n",
        "# DatasetAutoFolds 클래스를 ratings_noh.csv 파일 기반으로 생성.\n",
        "data_folds = DatasetAutoFolds(ratings_file='/content/sample_data/Book-Ratings_noh.csv', reader=reader)\n",
        "\n",
        "# 전체 데이터를 학습 데이터로 생성함.\n",
        "trainset = data_folds.build_full_trainset()"
      ],
      "execution_count": 137,
      "outputs": []
    },
    {
      "cell_type": "code",
      "metadata": {
        "id": "VS2mwltYaPgs",
        "outputId": "815cfd8f-f837-4613-b6f4-a4bac4d201bf",
        "colab": {
          "base_uri": "https://localhost:8080/",
          "height": 34
        }
      },
      "source": [
        "algo = SVD(n_epochs=20, n_factors=50, random_state=0)\n",
        "algo.fit(trainset)"
      ],
      "execution_count": 138,
      "outputs": [
        {
          "output_type": "execute_result",
          "data": {
            "text/plain": [
              "<surprise.prediction_algorithms.matrix_factorization.SVD at 0x7f50554389b0>"
            ]
          },
          "metadata": {
            "tags": []
          },
          "execution_count": 138
        }
      ]
    },
    {
      "cell_type": "code",
      "metadata": {
        "id": "MnRBx9mYcyOg",
        "outputId": "1cf07e27-a17c-4316-eca8-5dd55b16783c",
        "colab": {
          "base_uri": "https://localhost:8080/",
          "height": 496
        }
      },
      "source": [
        "bookratings.head(5)"
      ],
      "execution_count": 139,
      "outputs": [
        {
          "output_type": "execute_result",
          "data": {
            "text/html": [
              "<div>\n",
              "<style scoped>\n",
              "    .dataframe tbody tr th:only-of-type {\n",
              "        vertical-align: middle;\n",
              "    }\n",
              "\n",
              "    .dataframe tbody tr th {\n",
              "        vertical-align: top;\n",
              "    }\n",
              "\n",
              "    .dataframe thead th {\n",
              "        text-align: right;\n",
              "    }\n",
              "</style>\n",
              "<table border=\"1\" class=\"dataframe\">\n",
              "  <thead>\n",
              "    <tr style=\"text-align: right;\">\n",
              "      <th></th>\n",
              "      <th>user</th>\n",
              "      <th>item</th>\n",
              "      <th>rating</th>\n",
              "      <th>Book-Title</th>\n",
              "      <th>Book-Author</th>\n",
              "      <th>Year-Of-Publication</th>\n",
              "      <th>Publisher</th>\n",
              "      <th>Image-URL-S</th>\n",
              "      <th>Image-URL-M</th>\n",
              "      <th>Image-URL-L</th>\n",
              "      <th>Unnamed: 8</th>\n",
              "      <th>Unnamed: 9</th>\n",
              "      <th>Unnamed: 10</th>\n",
              "    </tr>\n",
              "  </thead>\n",
              "  <tbody>\n",
              "    <tr>\n",
              "      <th>0</th>\n",
              "      <td>276725</td>\n",
              "      <td>034545104X</td>\n",
              "      <td>0</td>\n",
              "      <td>Flesh Tones: A Novel</td>\n",
              "      <td>M. J. Rose</td>\n",
              "      <td>2002</td>\n",
              "      <td>Ballantine Books</td>\n",
              "      <td>http://images.amazon.com/images/P/034545104X.0...</td>\n",
              "      <td>http://images.amazon.com/images/P/034545104X.0...</td>\n",
              "      <td>http://images.amazon.com/images/P/034545104X.0...</td>\n",
              "      <td>NaN</td>\n",
              "      <td>NaN</td>\n",
              "      <td>NaN</td>\n",
              "    </tr>\n",
              "    <tr>\n",
              "      <th>1</th>\n",
              "      <td>2313</td>\n",
              "      <td>034545104X</td>\n",
              "      <td>5</td>\n",
              "      <td>Flesh Tones: A Novel</td>\n",
              "      <td>M. J. Rose</td>\n",
              "      <td>2002</td>\n",
              "      <td>Ballantine Books</td>\n",
              "      <td>http://images.amazon.com/images/P/034545104X.0...</td>\n",
              "      <td>http://images.amazon.com/images/P/034545104X.0...</td>\n",
              "      <td>http://images.amazon.com/images/P/034545104X.0...</td>\n",
              "      <td>NaN</td>\n",
              "      <td>NaN</td>\n",
              "      <td>NaN</td>\n",
              "    </tr>\n",
              "    <tr>\n",
              "      <th>2</th>\n",
              "      <td>6543</td>\n",
              "      <td>034545104X</td>\n",
              "      <td>0</td>\n",
              "      <td>Flesh Tones: A Novel</td>\n",
              "      <td>M. J. Rose</td>\n",
              "      <td>2002</td>\n",
              "      <td>Ballantine Books</td>\n",
              "      <td>http://images.amazon.com/images/P/034545104X.0...</td>\n",
              "      <td>http://images.amazon.com/images/P/034545104X.0...</td>\n",
              "      <td>http://images.amazon.com/images/P/034545104X.0...</td>\n",
              "      <td>NaN</td>\n",
              "      <td>NaN</td>\n",
              "      <td>NaN</td>\n",
              "    </tr>\n",
              "    <tr>\n",
              "      <th>3</th>\n",
              "      <td>8680</td>\n",
              "      <td>034545104X</td>\n",
              "      <td>5</td>\n",
              "      <td>Flesh Tones: A Novel</td>\n",
              "      <td>M. J. Rose</td>\n",
              "      <td>2002</td>\n",
              "      <td>Ballantine Books</td>\n",
              "      <td>http://images.amazon.com/images/P/034545104X.0...</td>\n",
              "      <td>http://images.amazon.com/images/P/034545104X.0...</td>\n",
              "      <td>http://images.amazon.com/images/P/034545104X.0...</td>\n",
              "      <td>NaN</td>\n",
              "      <td>NaN</td>\n",
              "      <td>NaN</td>\n",
              "    </tr>\n",
              "    <tr>\n",
              "      <th>4</th>\n",
              "      <td>10314</td>\n",
              "      <td>034545104X</td>\n",
              "      <td>9</td>\n",
              "      <td>Flesh Tones: A Novel</td>\n",
              "      <td>M. J. Rose</td>\n",
              "      <td>2002</td>\n",
              "      <td>Ballantine Books</td>\n",
              "      <td>http://images.amazon.com/images/P/034545104X.0...</td>\n",
              "      <td>http://images.amazon.com/images/P/034545104X.0...</td>\n",
              "      <td>http://images.amazon.com/images/P/034545104X.0...</td>\n",
              "      <td>NaN</td>\n",
              "      <td>NaN</td>\n",
              "      <td>NaN</td>\n",
              "    </tr>\n",
              "  </tbody>\n",
              "</table>\n",
              "</div>"
            ],
            "text/plain": [
              "     user        item  rating  ... Unnamed: 8 Unnamed: 9 Unnamed: 10\n",
              "0  276725  034545104X       0  ...        NaN        NaN         NaN\n",
              "1    2313  034545104X       5  ...        NaN        NaN         NaN\n",
              "2    6543  034545104X       0  ...        NaN        NaN         NaN\n",
              "3    8680  034545104X       5  ...        NaN        NaN         NaN\n",
              "4   10314  034545104X       9  ...        NaN        NaN         NaN\n",
              "\n",
              "[5 rows x 13 columns]"
            ]
          },
          "metadata": {
            "tags": []
          },
          "execution_count": 139
        }
      ]
    },
    {
      "cell_type": "code",
      "metadata": {
        "id": "GJ3wm3uLaw11",
        "outputId": "558087f4-7e1d-43a2-8d7b-32f7720f4610",
        "colab": {
          "base_uri": "https://localhost:8080/",
          "height": 102
        }
      },
      "source": [
        "# userId=9 ISBN 데이터를 추출해 ISBN '034545104X' 데이터가 있는지 확인.\n",
        "ISBNs = bookratings[bookratings['user']==9]['item']\n",
        "\n",
        "if ISBNs[ISBNs=='034545104X'].count() ==0 :\n",
        "  print('사용자 아이디 2313는 ISBN ''034545104X''의 평점 없음')\n",
        "\n",
        "# 도서에 대한 상세 속성 정보 DataFrame 로딩\n",
        "print(books[books['item']=='034545104X'])"
      ],
      "execution_count": 140,
      "outputs": [
        {
          "output_type": "stream",
          "text": [
            "사용자 아이디 2313는 ISBN 034545104X의 평점 없음\n",
            "            item                 title  ... Unnamed: 9 Unnamed: 10\n",
            "2966  034545104X  Flesh Tones: A Novel  ...        NaN         NaN\n",
            "\n",
            "[1 rows x 11 columns]\n"
          ],
          "name": "stdout"
        }
      ]
    },
    {
      "cell_type": "code",
      "metadata": {
        "id": "jAI-4CMedYgp",
        "outputId": "6c8deaca-c18b-4d5e-d794-5c73fd014922",
        "colab": {
          "base_uri": "https://localhost:8080/",
          "height": 34
        }
      },
      "source": [
        "uid = str(9)\n",
        "iid = str('034545104X')\n",
        "\n",
        "pred = algo.predict(uid, iid, verbose=True)"
      ],
      "execution_count": 141,
      "outputs": [
        {
          "output_type": "stream",
          "text": [
            "user: 9          item: 034545104X r_ui = None   est = 2.31   {'was_impossible': False}\n"
          ],
          "name": "stdout"
        }
      ]
    },
    {
      "cell_type": "code",
      "metadata": {
        "id": "x7w6qkIVfVU7",
        "outputId": "ef67a63c-3362-4482-f003-09df4aa526b1",
        "colab": {
          "base_uri": "https://localhost:8080/",
          "height": 34
        }
      },
      "source": [
        "def get_unread_surprise(bookratings, books, userId):\n",
        "  # 입력값으로 들어온 userId에 해당하는 사용자가 평점을 매긴 모든 도서를 리스트로 생성\n",
        "  read_books = bookratings[bookratings['user']==userId]['item'].tolist()\n",
        "\n",
        "  # 모든 도셔의 ISBN를 리스트로 생성.\n",
        "  total_books = books['item'].tolist()\n",
        "\n",
        "  # 모든 도서의 ISBN 중 이미 평점을 매긴 도서의 ISBN를 제외한 후 리스트로 생성\n",
        "  unread_books = [book for book in total_books if book not in read_books]\n",
        "  print('평점 매긴 도서 수 : ', len(read_books), '추천 대상 도서 수 : ', len(unread_books),\n",
        "        '전체 도서 수 : ', len(total_books))\n",
        "  \n",
        "  return unread_books\n",
        "\n",
        "unread_books = get_unread_surprise(bookratings, books, 276847)"
      ],
      "execution_count": 142,
      "outputs": [
        {
          "output_type": "stream",
          "text": [
            "평점 매긴 도서 수 :  47 추천 대상 도서 수 :  271332 전체 도서 수 :  271379\n"
          ],
          "name": "stdout"
        }
      ]
    },
    {
      "cell_type": "code",
      "metadata": {
        "id": "UZHkZjoFku4B",
        "outputId": "98cc2ed1-9619-4f62-db58-45664950bf78",
        "colab": {
          "base_uri": "https://localhost:8080/",
          "height": 289
        }
      },
      "source": [
        "def recomm_book_by_surprise(algo, userId, unread_books, top_n=10):\n",
        "\n",
        "  # 알고리즘 객체의 predict() 메서드를 평점이 없는 영화에 반복 수행한 후 결과를 list 객체로 저장\n",
        "  predictions = [algo.predict(str(userId), str(item)) for item in unread_books]\n",
        "  \n",
        "  # predictions list 객체는 surprise의 Prediction 객체를 원소로 가지고 있음.\n",
        "  # [Prediction(uid='276847', iid='1', est=3.69), Prediction(uid='276847', iid='2', est=2.98),,,,]\n",
        "\n",
        "  # 이를 est 값으로 정렬하기 위해서 아래의 sortkey_eat 함수를 정의함.\n",
        "  # sortkey_est 함수는 list 객체의 sort() 함수의 키 값으로 사용되어 정렬 수행.\n",
        "  def sortkey_est(pred):\n",
        "    return pred.est\n",
        "    \n",
        "  # sortkey_est() 반환값의 내림 차순으로 정렬 수행하고 top_n개의 최상위 값 추출.\n",
        "  predictions.sort(key=sortkey_est, reverse=True)\n",
        "  top_predictions = predictions[:top_n]\n",
        "\n",
        "  # top_n으로 추출된 영화의 정보 추출, 영화 아이디, 추천 예상 평점, 제목 추출\n",
        "  top_book_ids = [ int(pred.iid) for pred in top_predictions]\n",
        "  top_book_rating = [ pred.est for pred in top_predictions]\n",
        "  top_book_titles = bookratings[bookratings.item.isin(top_book_ids)]['Book-Title']\n",
        "\n",
        "  top_book_preds = [ (id, rating) for id, rating in \n",
        "                      zip(top_book_ids, top_book_rating)]\n",
        "  return top_book_preds\n",
        "\n",
        "unread_books = get_unread_surprise(bookratings, books, 276847)\n",
        "top_book_preds = recomm_book_by_surprise(algo, 276847, unread_books, top_n=10)\n",
        "\n",
        "print('  ')\n",
        "print('  ')\n",
        "print('***************************')\n",
        "print('*** 추천 영화 리스트 Top 10 ***')\n",
        "print('  ')\n",
        "for top_book in top_book_preds :\n",
        "  print(top_book[0], \":\", top_book[1])"
      ],
      "execution_count": 143,
      "outputs": [
        {
          "output_type": "stream",
          "text": [
            "평점 매긴 도서 수 :  47 추천 대상 도서 수 :  271332 전체 도서 수 :  271379\n",
            "  \n",
            "  \n",
            "***************************\n",
            "*** 추천 영화 리스트 Top 10 ***\n",
            "  \n",
            "440234743 : 10\n",
            "440225701 : 10\n",
            "671042858 : 10\n",
            "60976845 : 10\n",
            "451526341 : 10\n",
            "345335465 : 10\n",
            "385503857 : 10\n",
            "60932759 : 10\n",
            "312195516 : 10\n",
            "156027321 : 10\n"
          ],
          "name": "stdout"
        }
      ]
    },
    {
      "cell_type": "code",
      "metadata": {
        "id": "yd2oGK2qnAMB",
        "outputId": "d59bcb1a-cd00-45cc-dbd5-3f5130c50c91",
        "colab": {
          "base_uri": "https://localhost:8080/",
          "height": 651
        }
      },
      "source": [
        "list = ['440234743', '440225701', '671042858', '60976845', '451526341', '345335465', '385503857', '60932759', '312195516', '156027321']\n",
        "\n",
        "bookstitle=books[books.item.isin(list)]\n",
        "bookstitle"
      ],
      "execution_count": 144,
      "outputs": [
        {
          "output_type": "execute_result",
          "data": {
            "text/html": [
              "<div>\n",
              "<style scoped>\n",
              "    .dataframe tbody tr th:only-of-type {\n",
              "        vertical-align: middle;\n",
              "    }\n",
              "\n",
              "    .dataframe tbody tr th {\n",
              "        vertical-align: top;\n",
              "    }\n",
              "\n",
              "    .dataframe thead th {\n",
              "        text-align: right;\n",
              "    }\n",
              "</style>\n",
              "<table border=\"1\" class=\"dataframe\">\n",
              "  <thead>\n",
              "    <tr style=\"text-align: right;\">\n",
              "      <th></th>\n",
              "      <th>item</th>\n",
              "      <th>title</th>\n",
              "      <th>Book-Author</th>\n",
              "      <th>Year-Of-Publication</th>\n",
              "      <th>Publisher</th>\n",
              "      <th>Image-URL-S</th>\n",
              "      <th>Image-URL-M</th>\n",
              "      <th>Image-URL-L</th>\n",
              "      <th>Unnamed: 8</th>\n",
              "      <th>Unnamed: 9</th>\n",
              "      <th>Unnamed: 10</th>\n",
              "    </tr>\n",
              "  </thead>\n",
              "  <tbody>\n",
              "    <tr>\n",
              "      <th>18</th>\n",
              "      <td>440234743</td>\n",
              "      <td>The Testament</td>\n",
              "      <td>John Grisham</td>\n",
              "      <td>1999</td>\n",
              "      <td>Dell</td>\n",
              "      <td>http://images.amazon.com/images/P/0440234743.0...</td>\n",
              "      <td>http://images.amazon.com/images/P/0440234743.0...</td>\n",
              "      <td>http://images.amazon.com/images/P/0440234743.0...</td>\n",
              "      <td>NaN</td>\n",
              "      <td>NaN</td>\n",
              "      <td>NaN</td>\n",
              "    </tr>\n",
              "    <tr>\n",
              "      <th>52</th>\n",
              "      <td>440225701</td>\n",
              "      <td>The Street Lawyer</td>\n",
              "      <td>JOHN GRISHAM</td>\n",
              "      <td>1999</td>\n",
              "      <td>Dell</td>\n",
              "      <td>http://images.amazon.com/images/P/0440225701.0...</td>\n",
              "      <td>http://images.amazon.com/images/P/0440225701.0...</td>\n",
              "      <td>http://images.amazon.com/images/P/0440225701.0...</td>\n",
              "      <td>NaN</td>\n",
              "      <td>NaN</td>\n",
              "      <td>NaN</td>\n",
              "    </tr>\n",
              "    <tr>\n",
              "      <th>126</th>\n",
              "      <td>671042858</td>\n",
              "      <td>The Girl Who Loved Tom Gordon</td>\n",
              "      <td>Stephen King</td>\n",
              "      <td>2000</td>\n",
              "      <td>Pocket</td>\n",
              "      <td>http://images.amazon.com/images/P/0671042858.0...</td>\n",
              "      <td>http://images.amazon.com/images/P/0671042858.0...</td>\n",
              "      <td>http://images.amazon.com/images/P/0671042858.0...</td>\n",
              "      <td>NaN</td>\n",
              "      <td>NaN</td>\n",
              "      <td>NaN</td>\n",
              "    </tr>\n",
              "    <tr>\n",
              "      <th>134</th>\n",
              "      <td>60976845</td>\n",
              "      <td>Little Altars Everywhere: A Novel</td>\n",
              "      <td>Rebecca Wells</td>\n",
              "      <td>1996</td>\n",
              "      <td>Perennial</td>\n",
              "      <td>http://images.amazon.com/images/P/0060976845.0...</td>\n",
              "      <td>http://images.amazon.com/images/P/0060976845.0...</td>\n",
              "      <td>http://images.amazon.com/images/P/0060976845.0...</td>\n",
              "      <td>NaN</td>\n",
              "      <td>NaN</td>\n",
              "      <td>NaN</td>\n",
              "    </tr>\n",
              "    <tr>\n",
              "      <th>285</th>\n",
              "      <td>451526341</td>\n",
              "      <td>Animal Farm</td>\n",
              "      <td>George Orwell</td>\n",
              "      <td>2004</td>\n",
              "      <td>Signet</td>\n",
              "      <td>http://images.amazon.com/images/P/0451526341.0...</td>\n",
              "      <td>http://images.amazon.com/images/P/0451526341.0...</td>\n",
              "      <td>http://images.amazon.com/images/P/0451526341.0...</td>\n",
              "      <td>NaN</td>\n",
              "      <td>NaN</td>\n",
              "      <td>NaN</td>\n",
              "    </tr>\n",
              "    <tr>\n",
              "      <th>453</th>\n",
              "      <td>345335465</td>\n",
              "      <td>Dragonflight (Dragonriders of Pern Trilogy (Pa...</td>\n",
              "      <td>Anne McCaffrey</td>\n",
              "      <td>1991</td>\n",
              "      <td>Del Rey Books</td>\n",
              "      <td>http://images.amazon.com/images/P/0345335465.0...</td>\n",
              "      <td>http://images.amazon.com/images/P/0345335465.0...</td>\n",
              "      <td>http://images.amazon.com/images/P/0345335465.0...</td>\n",
              "      <td>NaN</td>\n",
              "      <td>NaN</td>\n",
              "      <td>NaN</td>\n",
              "    </tr>\n",
              "    <tr>\n",
              "      <th>480</th>\n",
              "      <td>385503857</td>\n",
              "      <td>Oryx and Crake</td>\n",
              "      <td>Margaret Atwood</td>\n",
              "      <td>2003</td>\n",
              "      <td>Nan A. Talese</td>\n",
              "      <td>http://images.amazon.com/images/P/0385503857.0...</td>\n",
              "      <td>http://images.amazon.com/images/P/0385503857.0...</td>\n",
              "      <td>http://images.amazon.com/images/P/0385503857.0...</td>\n",
              "      <td>NaN</td>\n",
              "      <td>NaN</td>\n",
              "      <td>NaN</td>\n",
              "    </tr>\n",
              "    <tr>\n",
              "      <th>519</th>\n",
              "      <td>60932759</td>\n",
              "      <td>Daughter of Fortune</td>\n",
              "      <td>Isabel Allende</td>\n",
              "      <td>2000</td>\n",
              "      <td>Perennial</td>\n",
              "      <td>http://images.amazon.com/images/P/0060932759.0...</td>\n",
              "      <td>http://images.amazon.com/images/P/0060932759.0...</td>\n",
              "      <td>http://images.amazon.com/images/P/0060932759.0...</td>\n",
              "      <td>NaN</td>\n",
              "      <td>NaN</td>\n",
              "      <td>NaN</td>\n",
              "    </tr>\n",
              "    <tr>\n",
              "      <th>522</th>\n",
              "      <td>312195516</td>\n",
              "      <td>The Red Tent (Bestselling Backlist)</td>\n",
              "      <td>Anita Diamant</td>\n",
              "      <td>1998</td>\n",
              "      <td>Picador USA</td>\n",
              "      <td>http://images.amazon.com/images/P/0312195516.0...</td>\n",
              "      <td>http://images.amazon.com/images/P/0312195516.0...</td>\n",
              "      <td>http://images.amazon.com/images/P/0312195516.0...</td>\n",
              "      <td>NaN</td>\n",
              "      <td>NaN</td>\n",
              "      <td>NaN</td>\n",
              "    </tr>\n",
              "    <tr>\n",
              "      <th>563</th>\n",
              "      <td>156027321</td>\n",
              "      <td>Life of Pi</td>\n",
              "      <td>Yann Martel</td>\n",
              "      <td>2003</td>\n",
              "      <td>Harvest Books</td>\n",
              "      <td>http://images.amazon.com/images/P/0156027321.0...</td>\n",
              "      <td>http://images.amazon.com/images/P/0156027321.0...</td>\n",
              "      <td>http://images.amazon.com/images/P/0156027321.0...</td>\n",
              "      <td>NaN</td>\n",
              "      <td>NaN</td>\n",
              "      <td>NaN</td>\n",
              "    </tr>\n",
              "  </tbody>\n",
              "</table>\n",
              "</div>"
            ],
            "text/plain": [
              "          item  ... Unnamed: 10\n",
              "18   440234743  ...         NaN\n",
              "52   440225701  ...         NaN\n",
              "126  671042858  ...         NaN\n",
              "134   60976845  ...         NaN\n",
              "285  451526341  ...         NaN\n",
              "453  345335465  ...         NaN\n",
              "480  385503857  ...         NaN\n",
              "519   60932759  ...         NaN\n",
              "522  312195516  ...         NaN\n",
              "563  156027321  ...         NaN\n",
              "\n",
              "[10 rows x 11 columns]"
            ]
          },
          "metadata": {
            "tags": []
          },
          "execution_count": 144
        }
      ]
    },
    {
      "cell_type": "code",
      "metadata": {
        "id": "xI4I21p6RZhA"
      },
      "source": [
        ""
      ],
      "execution_count": null,
      "outputs": []
    }
  ]
}